{
 "cells": [
  {
   "cell_type": "markdown",
   "metadata": {},
   "source": [
    "# Part a) Quantum Computing Basics\n",
    "\n",
    "## Introduction\n",
    "\n",
    "Quantum computers in contrast to classical computers offers another way to process information.\n",
    "Quantum computing is based on the principles of quantum mechanics, which govern the behavior of subatomic particles.\n",
    "Classical computing utilizes bits, which exist exclusively as either 0 or 1. Quantum computing, however, relies on quantum bits or qubits, capable of existing in a superposition, meaning they can represent both 0 and 1 simultaneously. This unique property enables quantum computers to perform certain computations significantly faster than classical systems.\n",
    "\n",
    "In this part of the project, we will explore the fundamental concepts of quantum computing, including qubits, superposition, entanglement, and quantum gates. We have implemented a custom quantum computing simulator that includes\n",
    "implementations of qubits, quantum gates, quantum circuits, and measurement.\n",
    "In parallel, we will also be using Qiskit a Python library for quantum computing, to implement the same concepts, to compare our custom results with Qiskit results.\n",
    "Custom implementation helped us in understanding the underlying concepts of quantum computing and in parallell we are using qiskit to learn it's syntax and usage because in the future it is recommended and we will be using external libraries for quantum computing, since they are optimized and include many features.\n"
   ]
  },
  {
   "cell_type": "code",
   "execution_count": null,
   "metadata": {},
   "outputs": [],
   "source": [
    "from quantum_computing.p1.quantum import states, gates, measurements, utils"
   ]
  },
  {
   "cell_type": "markdown",
   "metadata": {},
   "source": [
    "### Quantum Computational basis\n",
    "\n",
    "In quantum computing, the computational basis refers to a set of basis states that can be used to represent quantum information. The most common computational basis for a single qubit consists of two states, denoted as $\\ket{0}$ and $\\ket{1}$. These states are represented as vectors in a two-dimensional complex vector space, which is the Hilbert space for a single qubit.\n",
    "\n",
    "$$\n",
    "\\ket{0} = \\begin{bmatrix}\n",
    "1 \\\\\n",
    "0\n",
    "\\end{bmatrix}, \\quad\n",
    "\\ket{1} = \\begin{bmatrix}\n",
    "0 \\\\\n",
    "1\n",
    "\\end{bmatrix}, \\quad\n",
    "$$\n",
    "\n",
    "We start by defining two seperate qbits, one in the state $\\ket{0}$ and the other in the state $\\ket{1}$.\n"
   ]
  },
  {
   "cell_type": "code",
   "execution_count": null,
   "metadata": {},
   "outputs": [
    {
     "name": "stdout",
     "output_type": "stream",
     "text": [
      "|0⟩ = [1.+0.j 0.+0.j] --> [1 0]ᵀ\n",
      "|1⟩ = [0.+0.j 1.+0.j] --> [0 1]ᵀ\n"
     ]
    }
   ],
   "source": [
    "ket0 = states.Qubit.ket_0()\n",
    "ket1 = states.Qubit.ket_1()\n",
    "\n",
    "utils.print_state(ket0.vector, \"|0⟩\")\n",
    "utils.print_state(ket1.vector, \"|1⟩\")"
   ]
  },
  {
   "cell_type": "markdown",
   "metadata": {},
   "source": [
    "##### Apply Pauli gates\n",
    "\n",
    "The Pauli gates are a set of single-qubit quantum gates that are used to manipulate the state of qubits.\n",
    "There are three Pauli gates: the Pauli-X gate (also known as the NOT gate), the Pauli-Y gate, and the Pauli-Z gate. These gates are represented by the following matrices:\n",
    "\n",
    "$$\n",
    "X = \\begin{bmatrix}\n",
    "0 & 1 \\\\\n",
    "1 & 0\n",
    "\\end{bmatrix}, \\quad\n",
    "Y = \\begin{bmatrix}\n",
    "0 & -i \\\\\n",
    "-i & 0\n",
    "\\end{bmatrix}, \\quad\n",
    "Z = \\begin{bmatrix}\n",
    "1 & 0 \\\\\n",
    "0 & -1\n",
    "\\end{bmatrix}\n",
    "$$\n",
    "\n",
    "Bellow we will apply the three Pauli gates to the qubit in the state $\\ket{0}$ and $\\ket{1}$, and observe the results.\n",
    "As an example Pauli-X on $\\ket{0}$\n",
    "\n",
    "$$\n",
    "X \\ket{0} = \\begin{bmatrix}\n",
    "0 & 1 \\\\\n",
    "1 & 0\n",
    "\\end{bmatrix} \\begin{bmatrix}\n",
    "1 \\\\\n",
    "0\n",
    "\\end{bmatrix} = \\begin{bmatrix}\n",
    "0 \\\\\n",
    "1\n",
    "\\end{bmatrix} = \\ket{1}\n",
    "$$\n"
   ]
  },
  {
   "cell_type": "code",
   "execution_count": null,
   "metadata": {},
   "outputs": [
    {
     "name": "stdout",
     "output_type": "stream",
     "text": [
      "X|0⟩ = [0.+0.j 1.+0.j] --> [0 1]ᵀ\n",
      "Y|0⟩ = [0.+0.j 0.+1.j] --> [0 1.0000i]ᵀ\n",
      "Z|0⟩ = [1.+0.j 0.+0.j] --> [1 0]ᵀ\n",
      "X|1⟩ = [1.+0.j 0.+0.j] --> [1 0]ᵀ\n",
      "Y|1⟩ = [0.-1.j 0.+0.j] --> [-1.0000i 0]ᵀ\n",
      "Z|1⟩ = [ 0.+0.j -1.+0.j] --> [0 -1]ᵀ\n",
      "\n",
      "\n",
      "Using Qiskit:\n",
      "X|0⟩ = [0.+0.j 1.+0.j] --> [0 1]ᵀ\n",
      "Y|0⟩ = [0.+0.j 0.+1.j] --> [0 1.0000i]ᵀ\n",
      "Z|0⟩ = [1.+0.j 0.+0.j] --> [1 0]ᵀ\n",
      "X|1⟩ = [1.+0.j 0.+0.j] --> [1 0]ᵀ\n",
      "Y|1⟩ = [0.-1.j 0.+0.j] --> [-1.0000i 0]ᵀ\n",
      "Z|1⟩ = [ 0.+0.j -1.+0.j] --> [0 -1]ᵀ\n",
      "\n",
      "\n"
     ]
    }
   ],
   "source": [
    "X = gates.PauliX()\n",
    "Y = gates.PauliY()\n",
    "Z = gates.PauliZ()\n",
    "\n",
    "# Apply X gate to ket0\n",
    "XKet0 = X.apply(ket0.vector)\n",
    "YKet0 = Y.apply(ket0.vector)\n",
    "ZKet0 = Z.apply(ket0.vector)\n",
    "\n",
    "XKet1 = X.apply(ket1.vector)\n",
    "YKet1 = Y.apply(ket1.vector)\n",
    "ZKet1 = Z.apply(ket1.vector)\n",
    "\n",
    "utils.print_state(XKet0, \"X|0⟩\")\n",
    "utils.print_state(YKet0, \"Y|0⟩\")\n",
    "utils.print_state(ZKet0, \"Z|0⟩\")\n",
    "utils.print_state(XKet1, \"X|1⟩\")\n",
    "utils.print_state(YKet1, \"Y|1⟩\")\n",
    "utils.print_state(ZKet1, \"Z|1⟩\")\n",
    "print(\"\\n\")\n",
    "\n",
    "# Using Qiskit\n",
    "from qiskit.quantum_info import Statevector, Operator\n",
    "\n",
    "ket0_qiskit = Statevector.from_label(\"0\")\n",
    "ket1_qiskit = Statevector.from_label(\"1\")\n",
    "\n",
    "X_qiskit = Operator.from_label(\"X\")\n",
    "Y_qiskit = Operator.from_label(\"Y\")\n",
    "Z_qiskit = Operator.from_label(\"Z\")\n",
    "\n",
    "XKet0_qiskit = ket0_qiskit.evolve(X_qiskit)\n",
    "YKet0_qiskit = ket0_qiskit.evolve(Y_qiskit)\n",
    "ZKet0_qiskit = ket0_qiskit.evolve(Z_qiskit)\n",
    "XKet1_qiskit = ket1_qiskit.evolve(X_qiskit)\n",
    "YKet1_qiskit = ket1_qiskit.evolve(Y_qiskit)\n",
    "ZKet1_qiskit = ket1_qiskit.evolve(Z_qiskit)\n",
    "print(\"Using Qiskit:\")\n",
    "utils.print_state(XKet0_qiskit.data, \"X|0⟩\")\n",
    "utils.print_state(YKet0_qiskit.data, \"Y|0⟩\")\n",
    "utils.print_state(ZKet0_qiskit.data, \"Z|0⟩\")\n",
    "utils.print_state(XKet1_qiskit.data, \"X|1⟩\")\n",
    "utils.print_state(YKet1_qiskit.data, \"Y|1⟩\")\n",
    "utils.print_state(ZKet1_qiskit.data, \"Z|1⟩\")\n",
    "print(\"\\n\")"
   ]
  },
  {
   "cell_type": "markdown",
   "metadata": {},
   "source": [
    "After applying the pauli gates we observe that the Pauli-X gate flips the state of the qubit, while the Pauli-Y and Pauli-Z gates introduce phase shifts.\n",
    "The Pauli-Y gate flips the bit with a phase of 90 degrees and the Pauli-Z gate introduces a phase shift of $\\pi$ (180 degrees) to the state of the qubit.\n",
    "\n",
    "Using Qiskit, we get the same results utilizing the qiskit library's 'Statevector' and 'Operator' classes which represent quantum states and operators, respectively. and then use evolve method that changes the state of the qubit according to the operator(gate) applied to it.\n"
   ]
  },
  {
   "cell_type": "markdown",
   "metadata": {},
   "source": [
    "#### Apply Hadamard gate\n",
    "\n",
    "Next we will apply the Hadamard gate to the qubit in the state $\\ket{0}$ and $\\ket{1}$. The Hadamard gate is a single-qubit gate that creates superposition states. It is represented by the following matrix:\n",
    "\n",
    "$$\n",
    "H = \\frac{1}{\\sqrt{2}} \\begin{bmatrix}\n",
    "1 & 1 \\\\\n",
    "1 & -1\n",
    "\\end{bmatrix}\n",
    "$$\n"
   ]
  },
  {
   "cell_type": "code",
   "execution_count": null,
   "metadata": {},
   "outputs": [
    {
     "name": "stdout",
     "output_type": "stream",
     "text": [
      "H|0⟩ = [0.70710678+0.j 0.70710678+0.j] --> [0.7071 0.7071]ᵀ\n",
      "H|1⟩ = [ 0.70710678+0.j -0.70710678+0.j] --> [0.7071 -0.7071]ᵀ\n",
      "Using Qiskit:\n",
      "H|0⟩ = [0.70710678+0.j 0.70710678+0.j] --> [0.7071 0.7071]ᵀ\n",
      "H|1⟩ = [ 0.70710678+0.j -0.70710678+0.j] --> [0.7071 -0.7071]ᵀ\n",
      "\n",
      "\n"
     ]
    }
   ],
   "source": [
    "H = gates.Hadamard()\n",
    "HKet0 = H.apply(ket0.vector)\n",
    "HKet1 = H.apply(ket1.vector)\n",
    "\n",
    "utils.print_state(HKet0, \"H|0⟩\")\n",
    "utils.print_state(HKet1, \"H|1⟩\")\n",
    "\n",
    "# Using Qiskit\n",
    "H_qiskit = Operator.from_label(\"H\")\n",
    "HKet0_qiskit = ket0_qiskit.evolve(H_qiskit)\n",
    "HKet1_qiskit = ket1_qiskit.evolve(H_qiskit)\n",
    "print(\"Using Qiskit:\")\n",
    "utils.print_state(HKet0_qiskit.data, \"H|0⟩\")\n",
    "utils.print_state(HKet1_qiskit.data, \"H|1⟩\")\n",
    "print(\"\\n\")"
   ]
  },
  {
   "cell_type": "markdown",
   "metadata": {},
   "source": [
    "Applying the Hadamard gate to the qubits in the state $\\ket{0}$ and $\\ket{1}$, we see that both\n",
    "states are transformed into superposition states, that is the qbit exists in both states $\\ket{0}$ and $\\ket{1}$ at the same time. We notice the value of the amplitudes of the states are equal and is $\\frac{1}{\\sqrt{2}}$.\n",
    "This values of the amplitudes represent the probability of measuring the qubit in either state. And is\n",
    "calculated as the square of the amplitude which gives 50\\% chance of measuring the qubit in either state.\n",
    "\n",
    "$$\n",
    "\\begin{bmatrix}\n",
    "\\frac{1}{\\sqrt{2}} \\\\\n",
    "\\frac{1}{\\sqrt{2}}\n",
    "\\end{bmatrix} \\rightarrow P(\\ket{0}) = \\left(\\frac{1}{\\sqrt{2}}\\right)^2 = \\frac{1}{2}, \\quad P(\\ket{1}) = \\left(\\frac{1}{\\sqrt{2}}\\right)^2 = \\frac{1}{2}\n",
    "$$\n"
   ]
  },
  {
   "cell_type": "markdown",
   "metadata": {},
   "source": [
    "#### Apply Phase gate\n",
    "\n",
    "The Phase gate is a single-qubit gate that introduces a phase shift to the state of the qubit. It is represented by the following matrix:\n",
    "\n",
    "$$\n",
    "S = \\begin{bmatrix}\n",
    "1 & 0 \\\\\n",
    "0 & i\n",
    "\\end{bmatrix}\n",
    "$$\n"
   ]
  },
  {
   "cell_type": "code",
   "execution_count": null,
   "metadata": {},
   "outputs": [
    {
     "name": "stdout",
     "output_type": "stream",
     "text": [
      "S|0⟩ = [1.+0.j 0.+0.j] --> [1 0]ᵀ\n",
      "S|1⟩ = [0.+0.j 0.+1.j] --> [0 1.0000i]ᵀ\n",
      "\n",
      "\n",
      "Using Qiskit:\n",
      "S|0⟩ = [1.+0.j 0.+0.j] --> [1 0]ᵀ\n",
      "S|1⟩ = [0.+0.j 0.+1.j] --> [0 1.0000i]ᵀ\n",
      "\n",
      "\n"
     ]
    }
   ],
   "source": [
    "S = gates.Phase()\n",
    "\n",
    "SKet0 = S.apply(ket0.vector)\n",
    "SKet1 = S.apply(ket1.vector)\n",
    "\n",
    "utils.print_state(SKet0, \"S|0⟩\")\n",
    "utils.print_state(SKet1, \"S|1⟩\")\n",
    "print(\"\\n\")\n",
    "\n",
    "S_qiskit = Operator.from_label(\"S\")\n",
    "SKet0_qiskit = ket0_qiskit.evolve(S_qiskit)\n",
    "SKet1_qiskit = ket1_qiskit.evolve(S_qiskit)\n",
    "\n",
    "print(\"Using Qiskit:\")\n",
    "utils.print_state(SKet0_qiskit.data, \"S|0⟩\")\n",
    "utils.print_state(SKet1_qiskit.data, \"S|1⟩\")\n",
    "print(\"\\n\")"
   ]
  },
  {
   "cell_type": "markdown",
   "metadata": {},
   "source": [
    "We see that the Phase gate introduces a phase shift of $\\frac{\\pi}{2}$ (90 degrees) to the state of the qubit.\n",
    "The second element of the state vector is multiplied by the imaginary unit $i$, which represents a phase shift of 90 degrees.\n"
   ]
  },
  {
   "cell_type": "markdown",
   "metadata": {},
   "source": [
    "## Multiple Qubits\n",
    "\n",
    "In quantum computing, multiple qubits can be combined to create more complex quantum states. The state of a multi-qubit system is represented as a tensor product of the individual qubit states. For example, the state of two qubits can be represented as:\n",
    "\n",
    "$$\n",
    "\\ket{00} =  \\ket{0}\\otimes\\ket{0} = \\begin{bmatrix}\n",
    "1 \\\\\n",
    "0 \\\\\n",
    "0 \\\\\n",
    "0\n",
    "\\end{bmatrix}, \\quad\n",
    "\n",
    "\n",
    "\\ket{11} =  \\ket{1}\\otimes\\ket{1} = \\begin{bmatrix}\n",
    "0 \\\\\n",
    "0 \\\\\n",
    "0 \\\\\n",
    "1\n",
    "\\end{bmatrix}, \\quad\n",
    "$$\n",
    "\n",
    "Next we will create an entangled two-qubit state namely the Bell state.\n"
   ]
  },
  {
   "cell_type": "markdown",
   "metadata": {},
   "source": [
    "#### Prepare the Bell state $\\ket{\\Phi^+}$\n",
    "\n",
    "Bell states are a specific type of entangled quantum state that involve two qubits. They are maximally entangled states, meaning that the measurement of one qubit instantaneously determines the state of the other qubit, regardless of the distance between them. The four Bell states are:\n",
    "\n",
    "1. $\\ket{\\Phi^+} = \\frac{1}{\\sqrt{2}} \\left( \\ket{00} + \\ket{11} \\right)$\n",
    "2. $\\ket{\\Phi^-} = \\frac{1}{\\sqrt{2}} \\left( \\ket{00} - \\ket{11} \\right)$\n",
    "3. $\\ket{\\Psi^+} = \\frac{1}{\\sqrt{2}} \\left( \\ket{01} + \\ket{10} \\right)$\n",
    "4. $\\ket{\\Psi^-} = \\frac{1}{\\sqrt{2}} \\left( \\ket{01} - \\ket{10} \\right)$\n",
    "\n",
    "In our example we will prepare the Bell state $\\ket{\\Phi^+}$ using a combination of Hadamard and CNOT gates with an initial state of $\\ket{00}$.\n",
    "\n",
    "Step 1: Apply Hadamard gate to the first qubit\n",
    "\n",
    "$$\n",
    "H \\ket{0} = \\frac{1}{\\sqrt{2}} \\left( \\ket{0} + \\ket{1} \\right)\n",
    "$$\n",
    "\n",
    "Step 2: Apply CNOT gate with control qubit is $\\ket{0}$ and target qubit is $\\ket{1}$\n",
    "\n",
    "$$\n",
    "CX = \\begin{bmatrix}\n",
    "1 & 0 & 0 & 0 \\\\\n",
    "0 & 1 & 0 & 0 \\\\\n",
    "0 & 0 & 0 & 1 \\\\\n",
    "0 & 0 & 1 & 0\n",
    "\\end{bmatrix}\n",
    "$$\n",
    "\n",
    "The CNOT gate flips the target qubit if the control qubit is in state $\\ket{1}$.\n",
    "The table below shows the effect of the CNOT gate on the two-qubit states with control qubit being the first qubit.\n",
    "|Before CNOT|After CNOT|\n",
    "|---|---|\n",
    "|$\\ket{00}$|$\\ket{00}$|\n",
    "|$\\ket{01}$|$\\ket{01}$|\n",
    "|$\\ket{10}$|$\\ket{11}$|\n",
    "|$\\ket{11}$|$\\ket{10}$|\n",
    "\n",
    "Totall: $$\\ket{\\Phi^+} = \\textbf{CX}(\\textbf{H}\\ket{0}\\otimes\\ket{0}) \\tag{1}$$\n",
    "\n",
    "We do the tensor product to combine the two qubits into a single state vector.\n"
   ]
  },
  {
   "cell_type": "code",
   "execution_count": null,
   "metadata": {},
   "outputs": [
    {
     "name": "stdout",
     "output_type": "stream",
     "text": [
      "CNOT|+0⟩ = Bell state |Φ+⟩ = [0.70710678+0.j 0.        +0.j 0.        +0.j 0.70710678+0.j] --> [0.7071 0 0 0.7071]ᵀ\n",
      "Using Qiskit:\n",
      "CNOT|+0⟩ = Bell state |Φ+⟩ = [0.70710678+0.j 0.        +0.j 0.        +0.j 0.70710678+0.j] --> [0.7071 0 0 0.7071]ᵀ\n"
     ]
    },
    {
     "data": {
      "text/html": [
       "<pre style=\"word-wrap: normal;white-space: pre;background: #fff0;line-height: 1.1;font-family: &quot;Courier New&quot;,Courier,monospace\">     ┌───┐     \n",
       "q_0: ┤ H ├──■──\n",
       "     └───┘┌─┴─┐\n",
       "q_1: ─────┤ X ├\n",
       "          └───┘</pre>"
      ],
      "text/plain": [
       "     ┌───┐     \n",
       "q_0: ┤ H ├──■──\n",
       "     └───┘┌─┴─┐\n",
       "q_1: ─────┤ X ├\n",
       "          └───┘"
      ]
     },
     "execution_count": 130,
     "metadata": {},
     "output_type": "execute_result"
    }
   ],
   "source": [
    "from quantum_computing.p1.quantum.circuits import QuantumCircuit\n",
    "from quantum_computing.p1.quantum.states import TwoQubits\n",
    "\n",
    "CX = gates.CNOT()\n",
    "\n",
    "qc = QuantumCircuit(2)\n",
    "\n",
    "qc.initialize(TwoQubits.ket_00())\n",
    "qc.add_gate(H, 0)\n",
    "qc.add_gate(CX, 1, 0)\n",
    "\n",
    "final_state = qc.simulate()\n",
    "bell_state = final_state\n",
    "utils.print_state(final_state, \"CNOT|+0⟩ = Bell state |Φ+⟩\")\n",
    "\n",
    "# Also create Bell state using Qiskit\n",
    "from qiskit import QuantumCircuit as QiskitCircuit\n",
    "from qiskit.quantum_info import Statevector\n",
    "\n",
    "qc_qiskit = QiskitCircuit(2)\n",
    "qc_qiskit.h(0)\n",
    "qc_qiskit.cx(0, 1)\n",
    "\n",
    "bell_qiskit = Statevector.from_instruction(qc_qiskit)\n",
    "\n",
    "print(\"Using Qiskit:\")\n",
    "utils.print_state(bell_qiskit.data, \"CNOT|+0⟩ = Bell state |Φ+⟩\")\n",
    "qc_qiskit.draw()"
   ]
  },
  {
   "cell_type": "markdown",
   "metadata": {},
   "source": [
    "The code above demonstrates the preparation of the Bell state $\\ket{\\Phi^+}$ by creating a quantum circuit with two qubits and applying first the hadamard gate to the first qubit (qbit 0) and then the CNOT gate with the first qubit as the control qubit and the second qubit (qbit 1) as the target qubit. The resulting state $[0.7071, 0 ,0, 0.7071]ᵀ$ is a superposition of $\\ket{00}$ and $\\ket{11}$, which is the Bell state $\\ket{\\Phi^+}$.\n",
    "with the probability of measuring the qubits in either state being 50\\%.\n",
    "\n",
    "Using Qiskit, we get the same result by follwing the same steps. Qiskit also provides a method to draw and visualize the quantum circuit, from the figure above we see the a the quantum circuit with two qubits.\n",
    "The flow of the circuit from left to right. We see Hadamard gate ($\\textbf{H}$) applied to the first qubit ($q_1$) and then the CNOT ($\\textbf{X}$) gate applied to the second qubit ($q_2$) with the first qubit as the control.\n",
    "\n",
    "In our custom implementation when doing the different gate operations we have used the appraoch of expanded matrix\n",
    "multiplication to get the final state of the qubits. This is to make it be more general and since we are working with small qbits there is no practical difference in performance.\n",
    "\n",
    "The expanded matrix multiplication involves preparing a complete matrix that represents the combined state of all qubits and then applying the gate operation to the entire matrix. Forexample in our case in contrast to Eq(1) in our implementation since we start with the state $\\ket{00}$ we have to expand the Hadamard gate to be a 4x4 matrix and then apply the CNOT gate to the entire matrix.\n",
    "And it is done by tensor product of the Hadamard gate with the identity matrix of size 2x2. $\\textbf{H}\\otimes\\textbf{I}$. In contrast if we want to apply the Hadamard gate to the second qubit we would have to do $\\textbf{I}\\otimes\\textbf{H}$.\n"
   ]
  },
  {
   "cell_type": "markdown",
   "metadata": {},
   "source": [
    "### Measurement on two-qbit system\n",
    "\n",
    "To build a simulation for measurement of a quantum system we are using probability amplitudes of the quantum state and use probability distribution based on the amplitudes to measure the state of the qubit.\n",
    "\n",
    "In real quantum computers, measurement is a process that collapses the quantum state into one of the basis states with a certain probability. The measurement process is probabilistic, meaning that the outcome of the measurement is probabilisticly deteministic in contrast to classical measurement which is deterministic.\n",
    "\n",
    "We will simulate the measurement process by first doing a mesurement on the first qubit and then the second qubit one time.\n",
    "and then do an experiment of 200 measurements on the two qubits and observe the results.\n"
   ]
  },
  {
   "cell_type": "code",
   "execution_count": null,
   "metadata": {},
   "outputs": [
    {
     "name": "stdout",
     "output_type": "stream",
     "text": [
      "Measurement on first qubit:\n",
      "Result: (0) = [1.+0.j 0.+0.j 0.+0.j 0.+0.j] --> [1 0 0 0]ᵀ\n",
      "Measurement on second qubit:\n",
      "Result: (1) = [0.+0.j 0.+0.j 0.+0.j 1.+0.j] --> [0 0 0 1]ᵀ\n"
     ]
    }
   ],
   "source": [
    "measurement_experiment = measurements.QuantumMeasurement()\n",
    "on_first_qubit = measurement_experiment.measure_qubit(bell_state, 0, 2)\n",
    "on_second_qubit = measurement_experiment.measure_qubit(bell_state, 1, 2)\n",
    "\n",
    "print(\"Measurement on first qubit:\")\n",
    "utils.print_state(on_first_qubit[1], f\"Result: ({on_first_qubit[0]})\")\n",
    "print(\"Measurement on second qubit:\")\n",
    "utils.print_state(on_second_qubit[1], f\"Result: ({on_second_qubit[0]})\")"
   ]
  },
  {
   "cell_type": "markdown",
   "metadata": {},
   "source": [
    "Results of measuring qbit 0 and qbit 1 one time shows that either qbit can be in state $(0)$ or $(1)$ being $\\ket{0}$ or $\\ket{1}$ respectively.\n",
    "The results of the measurement are probabilistic, and we can run the same notebook multiple times to get different results for the two qbits.\n"
   ]
  },
  {
   "cell_type": "markdown",
   "metadata": {},
   "source": [
    "###\n"
   ]
  },
  {
   "cell_type": "code",
   "execution_count": null,
   "metadata": {},
   "outputs": [
    {
     "data": {
      "text/html": [
       "<pre style=\"word-wrap: normal;white-space: pre;background: #fff0;line-height: 1.1;font-family: &quot;Courier New&quot;,Courier,monospace\">     ┌───┐     ┌─┐   \n",
       "q_0: ┤ H ├──■──┤M├───\n",
       "     └───┘┌─┴─┐└╥┘┌─┐\n",
       "q_1: ─────┤ X ├─╫─┤M├\n",
       "          └───┘ ║ └╥┘\n",
       "c: 2/═══════════╩══╩═\n",
       "                0  1 </pre>"
      ],
      "text/plain": [
       "     ┌───┐     ┌─┐   \n",
       "q_0: ┤ H ├──■──┤M├───\n",
       "     └───┘┌─┴─┐└╥┘┌─┐\n",
       "q_1: ─────┤ X ├─╫─┤M├\n",
       "          └───┘ ║ └╥┘\n",
       "c: 2/═══════════╩══╩═\n",
       "                0  1 "
      ]
     },
     "execution_count": 132,
     "metadata": {},
     "output_type": "execute_result"
    }
   ],
   "source": [
    "from qiskit import transpile\n",
    "from qiskit_aer import AerSimulator\n",
    "from qiskit.visualization import plot_histogram\n",
    "from matplotlib import pyplot as plt\n",
    "\n",
    "qc_qiskit = QiskitCircuit(2, 2)\n",
    "qc_qiskit.h(0)\n",
    "qc_qiskit.cx(0, 1)\n",
    "qc_qiskit.measure(0, 0)\n",
    "qc_qiskit.measure(1, 1)\n",
    "\n",
    "simulator = AerSimulator()\n",
    "\n",
    "transpiled_qc = transpile(qc_qiskit, simulator)\n",
    "results = simulator.run(transpiled_qc, shots=2).result()\n",
    "counts = results.get_counts(transpiled_qc)\n",
    "qc_qiskit.draw()"
   ]
  },
  {
   "cell_type": "code",
   "execution_count": null,
   "metadata": {},
   "outputs": [
    {
     "data": {
      "image/png": "[encoded data removed]",
      "text/plain": [
       "<Figure size 500x300 with 1 Axes>"
      ]
     },
     "execution_count": 133,
     "metadata": {},
     "output_type": "execute_result"
    }
   ],
   "source": [
    "plot_histogram(counts, figsize=(5, 3))"
   ]
  },
  {
   "cell_type": "markdown",
   "metadata": {},
   "source": [
    "#### Multiple measurement experiment\n"
   ]
  },
  {
   "cell_type": "code",
   "execution_count": null,
   "metadata": {},
   "outputs": [
    {
     "name": "stdout",
     "output_type": "stream",
     "text": [
      "Measurement on all qubits:\n",
      "Counter({'11': 107, '00': 93})\n"
     ]
    },
    {
     "data": {
      "image/png": "[encoded data removed]",
      "text/plain": [
       "<Figure size 500x300 with 1 Axes>"
      ]
     },
     "metadata": {},
     "output_type": "display_data"
    }
   ],
   "source": [
    "exp_results = measurement_experiment.measure_all(bell_state, 200)\n",
    "print(\"Measurement on all qubits:\")\n",
    "print(exp_results)\n",
    "\n",
    "fig, ax = plt.subplots(figsize=(5, 3))\n",
    "\n",
    "keys = list(exp_results.keys())\n",
    "values = list(exp_results.values())\n",
    "\n",
    "ax.bar(keys, values)\n",
    "ax.set_title(\"Bell State Measurement Results (200 shots)\")\n",
    "ax.set_xlabel(\"Measurement Outcome\")\n",
    "ax.set_ylabel(\"Frequency\")\n",
    "\n",
    "for i, v in enumerate(values):\n",
    "    ax.text(i, v + 3, str(v), ha=\"center\")\n",
    "\n",
    "plt.tight_layout()\n",
    "plt.show()"
   ]
  },
  {
   "cell_type": "markdown",
   "metadata": {},
   "source": [
    "#### Qiskit multiple measurement\n"
   ]
  },
  {
   "cell_type": "code",
   "execution_count": null,
   "metadata": {},
   "outputs": [
    {
     "data": {
      "image/png": "[encoded data removed]",
      "text/plain": [
       "<Figure size 500x300 with 1 Axes>"
      ]
     },
     "execution_count": 135,
     "metadata": {},
     "output_type": "execute_result"
    }
   ],
   "source": [
    "results = simulator.run(transpiled_qc, shots=200).result()\n",
    "counts = results.get_counts(transpiled_qc)\n",
    "plot_histogram(counts, figsize=(5, 3))"
   ]
  },
  {
   "cell_type": "markdown",
   "metadata": {},
   "source": [
    "The result of running the an experiment using Qiskit circuit simulator similar results to our custom implementation."
   ]
  }
 ],
 "metadata": {
  "kernelspec": {
   "display_name": "quantum-computing",
   "language": "python",
   "name": "python3"
  },
  "language_info": {
   "codemirror_mode": {
    "name": "ipython",
    "version": 3
   },
   "file_extension": ".py",
   "mimetype": "text/x-python",
   "name": "python",
   "nbconvert_exporter": "python",
   "pygments_lexer": "ipython3",
   "version": "3.13.1"
  }
 },
 "nbformat": 4,
 "nbformat_minor": 2
}
